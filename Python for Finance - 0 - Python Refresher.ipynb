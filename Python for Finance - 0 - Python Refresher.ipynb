{
 "cells": [
  {
   "cell_type": "markdown",
   "id": "02595dd2",
   "metadata": {},
   "source": [
    "# Python for Finance - 0 - Python Refresher"
   ]
  },
  {
   "cell_type": "markdown",
   "id": "d0b01bf7",
   "metadata": {},
   "source": [
    "* Author: Cleiber Garcia\n",
    "* Date: November/2023\n",
    "\n",
    "* Goal: I taught myself how to use Python with financial data for making predictions. I put together this notebook while taking an online course called Python para Finanças ('Python for Finance') on Udemy, taught by Jones Granatyr (from IA Expert Academy). This notebook closely mirrors the one covered in class, with the effort I made to infuse my personal touch whenever possible and appropriate. I assure you that I meticulously wrote it line by line.\n",
    "\n",
    "* Disclaimer: **Please be advised that all forecasts and patterns developed in the course of this training are \n",
    "intended solely for educational purposes. Under no circumstances should they be construed as \n",
    "investment advice.**\n",
    "\n",
    "For more information please contact me at cleiber.garcia@gmail.com"
   ]
  },
  {
   "cell_type": "markdown",
   "id": "c99310f1",
   "metadata": {},
   "source": [
    "# Summary <a id='Summary'></a>\n",
    "* [1. Output (Formatted Strings)](#FormattedStrings)\n",
    "* [2. Variables and Constants](#VariablesAndConstants)\n",
    "* [3. String Manipulation](#StringManipulation)\n",
    "* [4. Mathmatical Operators](#MathmaticalOperators)\n",
    "* [5. Logical Operators](#LogicalOperators)\n",
    "* [6. Relational Operators](#RelationalOperators)\n",
    "* [7. Control Structures: Loops](#Loops)\n",
    "* [8. Data Structures](#DataStructures)\n",
    "* [9. Functions](#Functions)\n",
    "* [10. Math Module](#MathModule)\n",
    "* [11. Datetime Module](#DatetimeModule)\n",
    "* [12. Time Module](#TimeModule)\n",
    "* [13. Random Module](#RandomModule)\n",
    "* [14. Create Python Modules](#CreatingPythonModules)\n",
    "* [15. Exception Handling](#ExceptionHandling)\n",
    "* [16. File Handling](#FileHandling)\n",
    "* [17. Regular Expression](#RegularExpression)\n",
    "* [18. Object-Oriented Programming](#ObjectOrientedProg)"
   ]
  },
  {
   "cell_type": "markdown",
   "id": "c0864838",
   "metadata": {},
   "source": [
    "# 1. Output (Formatted Strings) <a id='FormattedStrings'></a>"
   ]
  },
  {
   "cell_type": "code",
   "execution_count": 10,
   "id": "e62b9aed",
   "metadata": {},
   "outputs": [
    {
     "name": "stdout",
     "output_type": "stream",
     "text": [
      "Unsupervised algorithms try to find patterns in the dataset\n"
     ]
    }
   ],
   "source": [
    "tool=\"Unsupervised algorithms\"\n",
    "goal=\"patterns\"\n",
    "\n",
    "print(\"{title} try to find {aim} in the dataset\".format(title=tool, aim=goal))"
   ]
  },
  {
   "cell_type": "code",
   "execution_count": 9,
   "id": "92e6a532",
   "metadata": {
    "scrolled": true
   },
   "outputs": [
    {
     "name": "stdout",
     "output_type": "stream",
     "text": [
      "Daisy has a friend called Betty and a sister called Linda\n"
     ]
    }
   ],
   "source": [
    "print(\"{2} has a friend called {0} and a sister called {1}\". format(\"Betty\", \"Linda\", \"Daisy\"))"
   ]
  },
  {
   "cell_type": "code",
   "execution_count": 13,
   "id": "823a94fc",
   "metadata": {},
   "outputs": [
    {
     "name": "stdout",
     "output_type": "stream",
     "text": [
      "Unsupervised algorithms try to find patterns in the dataset\n"
     ]
    }
   ],
   "source": [
    "my_methods = {\"tool\": \"Unsupervised algorithms\", \"goal\": \"patterns\"}\n",
    "\n",
    "print('{data[tool]} try to find {data[goal]} in the dataset'.format(data=my_methods))"
   ]
  },
  {
   "cell_type": "code",
   "execution_count": 6,
   "id": "6ec46311",
   "metadata": {
    "scrolled": true
   },
   "outputs": [
    {
     "name": "stdout",
     "output_type": "stream",
     "text": [
      "Machine learning provides systems the ability to learn automatically\n"
     ]
    }
   ],
   "source": [
    "print(\"Machine learning provides {} the ability to learn {}\".format(\"systems\", \"automatically\"))"
   ]
  },
  {
   "cell_type": "code",
   "execution_count": 11,
   "id": "1b738079",
   "metadata": {},
   "outputs": [
    {
     "name": "stdout",
     "output_type": "stream",
     "text": [
      "Supervised algorithms rely on labeled datasets\n"
     ]
    }
   ],
   "source": [
    "my_string = \"{} rely on {} datasets\"\n",
    "method = \"Supervised algorithms\"\n",
    "condition = \"labeled\"\n",
    "\n",
    "print(my_string.format(method, condition))"
   ]
  },
  {
   "cell_type": "code",
   "execution_count": 16,
   "id": "f3064371",
   "metadata": {},
   "outputs": [
    {
     "name": "stdout",
     "output_type": "stream",
     "text": [
      "Only 0.515565% of the data produced worldwide is analyzed!\n"
     ]
    }
   ],
   "source": [
    "print(\"Only {0:f}% of the {1} produced worldwide is {2}!\". format(0.515565, \"data\", \"analyzed\"))"
   ]
  },
  {
   "cell_type": "code",
   "execution_count": 18,
   "id": "166d85b7",
   "metadata": {},
   "outputs": [
    {
     "name": "stdout",
     "output_type": "stream",
     "text": [
      "Only 0.52% of the data produced worldwide is analyzed!\n"
     ]
    }
   ],
   "source": [
    "print(\"Only {0:.2f}% of the {1} produced worldwide is {2}!\".format(0.5155675, \"data\", \"analyzed\"))"
   ]
  },
  {
   "cell_type": "code",
   "execution_count": 20,
   "id": "4b454fac",
   "metadata": {},
   "outputs": [
    {
     "name": "stdout",
     "output_type": "stream",
     "text": [
      "2023-11-14 13:20:40.224711\n"
     ]
    }
   ],
   "source": [
    "# Formatting Dates\n",
    "from datetime import datetime\n",
    "print(datetime.now())"
   ]
  },
  {
   "cell_type": "code",
   "execution_count": 21,
   "id": "51d3b8f7",
   "metadata": {},
   "outputs": [
    {
     "name": "stdout",
     "output_type": "stream",
     "text": [
      "Today's date is 2023-11-14 13:20\n"
     ]
    }
   ],
   "source": [
    "print(\"Today's date is {:%Y-%m-%d %H:%M}\".format(datetime.now()))"
   ]
  },
  {
   "cell_type": "markdown",
   "id": "8022de47",
   "metadata": {},
   "source": [
    "[Summary](#Summary)"
   ]
  },
  {
   "cell_type": "markdown",
   "id": "31026920",
   "metadata": {},
   "source": [
    "# 2. Variables and Constants <a id='VariablesAndConstants'></a>"
   ]
  },
  {
   "cell_type": "markdown",
   "id": "b08d6bdf",
   "metadata": {},
   "source": [
    "## 2.1 Integer Variables"
   ]
  },
  {
   "cell_type": "code",
   "execution_count": 1,
   "id": "49016768",
   "metadata": {},
   "outputs": [],
   "source": [
    "numero = -3\n",
    "numero_jogos = 14\n",
    "numero_convidados = 15"
   ]
  },
  {
   "cell_type": "code",
   "execution_count": 2,
   "id": "e90181b4",
   "metadata": {},
   "outputs": [
    {
     "name": "stdout",
     "output_type": "stream",
     "text": [
      "numero: -3\n"
     ]
    }
   ],
   "source": [
    "print(f'numero: {numero}')"
   ]
  },
  {
   "cell_type": "code",
   "execution_count": 7,
   "id": "7322709d",
   "metadata": {},
   "outputs": [
    {
     "name": "stdout",
     "output_type": "stream",
     "text": [
      "numero de convidados: 15\n"
     ]
    }
   ],
   "source": [
    "print('numero de convidados: {}'.format(numero_convidados))"
   ]
  },
  {
   "cell_type": "markdown",
   "id": "2e176d35",
   "metadata": {},
   "source": [
    "## 2.2 Floating Point Variables"
   ]
  },
  {
   "cell_type": "code",
   "execution_count": 65,
   "id": "ff7c9bc4",
   "metadata": {},
   "outputs": [],
   "source": [
    "pi = 3.14\n",
    "numero_euler = 2.71\n",
    "escala_terremoto = -4.55"
   ]
  },
  {
   "cell_type": "code",
   "execution_count": 67,
   "id": "8f01aa1d",
   "metadata": {},
   "outputs": [
    {
     "name": "stdout",
     "output_type": "stream",
     "text": [
      "0.003891728624535316\n"
     ]
    }
   ],
   "source": [
    "casos_doenca = 134\n",
    "numero_habitantes = 34432\n",
    "casos_por_habitante = casos_doenca / numero_habitantes\n",
    "print(casos_por_habitante)"
   ]
  },
  {
   "cell_type": "code",
   "execution_count": 69,
   "id": "715e671e",
   "metadata": {},
   "outputs": [
    {
     "data": {
      "text/plain": [
       "0.003892"
      ]
     },
     "execution_count": 69,
     "metadata": {},
     "output_type": "execute_result"
    }
   ],
   "source": [
    "round(casos_por_habitante, 6)"
   ]
  },
  {
   "cell_type": "code",
   "execution_count": 70,
   "id": "45ff3734",
   "metadata": {},
   "outputs": [
    {
     "name": "stdout",
     "output_type": "stream",
     "text": [
      "O número de casos por habitante é de 0.0039\n"
     ]
    }
   ],
   "source": [
    "print('O número de casos por habitante é de', round(casos_por_habitante, 4))"
   ]
  },
  {
   "cell_type": "markdown",
   "id": "fe2c0187",
   "metadata": {},
   "source": [
    "## 2.3 Strings and Chars"
   ]
  },
  {
   "cell_type": "code",
   "execution_count": 25,
   "id": "50187419",
   "metadata": {},
   "outputs": [],
   "source": [
    "letra = 'A'\n",
    "palavra1 = 'linguagem de programação'\n",
    "palavra2 = 'Python'"
   ]
  },
  {
   "cell_type": "code",
   "execution_count": 28,
   "id": "aeeb143c",
   "metadata": {},
   "outputs": [
    {
     "name": "stdout",
     "output_type": "stream",
     "text": [
      "A linguagem de programação Python\n"
     ]
    }
   ],
   "source": [
    "print(letra, palavra1, palavra2)"
   ]
  },
  {
   "cell_type": "code",
   "execution_count": 29,
   "id": "42d8881e",
   "metadata": {},
   "outputs": [
    {
     "name": "stdout",
     "output_type": "stream",
     "text": [
      "Digite sua idade:45\n",
      "Sua idade é  45\n"
     ]
    }
   ],
   "source": [
    "idade = int(input('Digite sua idade:'))\n",
    "print('Sua idade é ', idade)"
   ]
  },
  {
   "cell_type": "code",
   "execution_count": 30,
   "id": "6a6614bc",
   "metadata": {},
   "outputs": [
    {
     "name": "stdout",
     "output_type": "stream",
     "text": [
      "Qual o pH do solo durante a última medição?1.35\n",
      "O pH medido foi  1.35\n"
     ]
    }
   ],
   "source": [
    "pH = float(input('Qual o pH do solo durante a última medição?'))\n",
    "print('O pH medido foi ', pH)"
   ]
  },
  {
   "cell_type": "markdown",
   "id": "8d783082",
   "metadata": {},
   "source": [
    "[Summary](#Summary)"
   ]
  },
  {
   "cell_type": "markdown",
   "id": "cfd77ff4",
   "metadata": {},
   "source": [
    "# 3. String Manipulation <a id='StringManipulation'></a>"
   ]
  },
  {
   "cell_type": "code",
   "execution_count": 31,
   "id": "5485e991",
   "metadata": {},
   "outputs": [
    {
     "name": "stdout",
     "output_type": "stream",
     "text": [
      "casaco\n"
     ]
    }
   ],
   "source": [
    "a = 'casaco'\n",
    "print(a)"
   ]
  },
  {
   "cell_type": "code",
   "execution_count": 32,
   "id": "6a225cff",
   "metadata": {},
   "outputs": [
    {
     "name": "stdout",
     "output_type": "stream",
     "text": [
      "CASACO\n"
     ]
    }
   ],
   "source": [
    "maiuscula = a.upper()\n",
    "print(maiuscula)"
   ]
  },
  {
   "cell_type": "code",
   "execution_count": 33,
   "id": "2f33b0ce",
   "metadata": {},
   "outputs": [
    {
     "name": "stdout",
     "output_type": "stream",
     "text": [
      "Casaco\n"
     ]
    }
   ],
   "source": [
    "capital = a.capitalize()\n",
    "print(capital)"
   ]
  },
  {
   "cell_type": "code",
   "execution_count": 34,
   "id": "b37b88c7",
   "metadata": {},
   "outputs": [
    {
     "name": "stdout",
     "output_type": "stream",
     "text": [
      "casa\n"
     ]
    }
   ],
   "source": [
    "metade_palavra = a[0:4]\n",
    "print(metade_palavra)"
   ]
  },
  {
   "cell_type": "code",
   "execution_count": 35,
   "id": "529aaf90",
   "metadata": {},
   "outputs": [
    {
     "name": "stdout",
     "output_type": "stream",
     "text": [
      "casaco\n",
      "casinha\n"
     ]
    }
   ],
   "source": [
    "b = a.replace('aco', 'inha')\n",
    "print(a)\n",
    "print(b)"
   ]
  },
  {
   "cell_type": "code",
   "execution_count": 36,
   "id": "d020fa78",
   "metadata": {},
   "outputs": [
    {
     "name": "stdout",
     "output_type": "stream",
     "text": [
      "casaca\n"
     ]
    }
   ],
   "source": [
    "c = a.replace('o', 'a')\n",
    "print(c)"
   ]
  },
  {
   "cell_type": "code",
   "execution_count": 37,
   "id": "80ed5ca8",
   "metadata": {},
   "outputs": [
    {
     "data": {
      "text/plain": [
       "2"
      ]
     },
     "execution_count": 37,
     "metadata": {},
     "output_type": "execute_result"
    }
   ],
   "source": [
    "c.find('s')"
   ]
  },
  {
   "cell_type": "code",
   "execution_count": 38,
   "id": "ec1b17d6",
   "metadata": {},
   "outputs": [
    {
     "data": {
      "text/plain": [
       "-1"
      ]
     },
     "execution_count": 38,
     "metadata": {},
     "output_type": "execute_result"
    }
   ],
   "source": [
    "c.find('b')"
   ]
  },
  {
   "cell_type": "code",
   "execution_count": 42,
   "id": "bb915323",
   "metadata": {},
   "outputs": [
    {
     "name": "stdout",
     "output_type": "stream",
     "text": [
      "11\n"
     ]
    }
   ],
   "source": [
    "e = '    casaco '\n",
    "print(len(e))"
   ]
  },
  {
   "cell_type": "code",
   "execution_count": 43,
   "id": "ef00d442",
   "metadata": {},
   "outputs": [
    {
     "name": "stdout",
     "output_type": "stream",
     "text": [
      "casaco\n"
     ]
    }
   ],
   "source": [
    "f = e.strip()\n",
    "print(f)"
   ]
  },
  {
   "cell_type": "code",
   "execution_count": 44,
   "id": "efc4ca6c",
   "metadata": {},
   "outputs": [
    {
     "name": "stdout",
     "output_type": "stream",
     "text": [
      "6\n"
     ]
    }
   ],
   "source": [
    "print(len(f))"
   ]
  },
  {
   "cell_type": "markdown",
   "id": "8c0b3187",
   "metadata": {},
   "source": [
    "[Summary](#Summary)"
   ]
  },
  {
   "cell_type": "markdown",
   "id": "dfe3e2fe",
   "metadata": {},
   "source": [
    "# 4. Mathmatical Operators <a id='MathmaticalOperators'></a>"
   ]
  },
  {
   "cell_type": "code",
   "execution_count": 56,
   "id": "ffb3dfa3",
   "metadata": {},
   "outputs": [
    {
     "name": "stdout",
     "output_type": "stream",
     "text": [
      "a: 5\n",
      "b: 3\n",
      "5 + 3: 8\n",
      "5 - 3: 2\n",
      "5 * 3: 15\n",
      "5 / 3: 1.6666666666666667\n",
      "5 // 3: 1\n",
      "5 % 3: 2\n",
      "5 ** 3: 125\n"
     ]
    }
   ],
   "source": [
    "a = 5\n",
    "b = 3\n",
    "print(f'a: {a}')\n",
    "print(f'b: {b}')\n",
    "print(f'{a} + {b}: {a + b}') # addition\n",
    "print(f'{a} - {b}: {a - b}') # subtraction\n",
    "print(f'{a} * {b}: {a * b}') # multiplication\n",
    "print(f'{a} / {b}: {a / b}') # division\n",
    "print(f'{a} // {b}: {a // b}') # integer division\n",
    "print(f'{a} % {b}: {a % b}') # modulus (remainder)\n",
    "print(f'{a} ** {b}: {a ** b}') # exponentiation"
   ]
  },
  {
   "cell_type": "code",
   "execution_count": 57,
   "id": "6d45d4bb",
   "metadata": {},
   "outputs": [],
   "source": [
    "import math"
   ]
  },
  {
   "cell_type": "code",
   "execution_count": 58,
   "id": "312a5f55",
   "metadata": {},
   "outputs": [
    {
     "data": {
      "text/plain": [
       "9.0"
      ]
     },
     "execution_count": 58,
     "metadata": {},
     "output_type": "execute_result"
    }
   ],
   "source": [
    "math.sqrt(81)"
   ]
  },
  {
   "cell_type": "code",
   "execution_count": 60,
   "id": "18ed93f7",
   "metadata": {},
   "outputs": [
    {
     "data": {
      "text/plain": [
       "1.0"
      ]
     },
     "execution_count": 60,
     "metadata": {},
     "output_type": "execute_result"
    }
   ],
   "source": [
    "math.sin(math.pi / 2)"
   ]
  },
  {
   "cell_type": "code",
   "execution_count": 61,
   "id": "508f4712",
   "metadata": {},
   "outputs": [
    {
     "data": {
      "text/plain": [
       "4.605170185988092"
      ]
     },
     "execution_count": 61,
     "metadata": {},
     "output_type": "execute_result"
    }
   ],
   "source": [
    "math.log(100)"
   ]
  },
  {
   "cell_type": "code",
   "execution_count": 64,
   "id": "f889568a",
   "metadata": {},
   "outputs": [
    {
     "data": {
      "text/plain": [
       "1.0"
      ]
     },
     "execution_count": 64,
     "metadata": {},
     "output_type": "execute_result"
    }
   ],
   "source": [
    "math.log(math.exp(1))"
   ]
  },
  {
   "cell_type": "markdown",
   "id": "b85e8496",
   "metadata": {},
   "source": [
    "[Summary](#Summary)"
   ]
  },
  {
   "cell_type": "markdown",
   "id": "aadc46a1",
   "metadata": {},
   "source": [
    "# 5. Logical Operators <a id='LogicalOperators'></a>"
   ]
  },
  {
   "cell_type": "code",
   "execution_count": 71,
   "id": "e71b3d1a",
   "metadata": {},
   "outputs": [],
   "source": [
    "a = True\n",
    "b = False"
   ]
  },
  {
   "cell_type": "code",
   "execution_count": 72,
   "id": "9ce37d36",
   "metadata": {},
   "outputs": [
    {
     "data": {
      "text/plain": [
       "(True, False)"
      ]
     },
     "execution_count": 72,
     "metadata": {},
     "output_type": "execute_result"
    }
   ],
   "source": [
    "a, b"
   ]
  },
  {
   "cell_type": "code",
   "execution_count": 73,
   "id": "ffd294b8",
   "metadata": {},
   "outputs": [
    {
     "data": {
      "text/plain": [
       "False"
      ]
     },
     "execution_count": 73,
     "metadata": {},
     "output_type": "execute_result"
    }
   ],
   "source": [
    "a and b"
   ]
  },
  {
   "cell_type": "code",
   "execution_count": 74,
   "id": "4b1adfa2",
   "metadata": {},
   "outputs": [
    {
     "data": {
      "text/plain": [
       "False"
      ]
     },
     "execution_count": 74,
     "metadata": {},
     "output_type": "execute_result"
    }
   ],
   "source": [
    "a & b"
   ]
  },
  {
   "cell_type": "code",
   "execution_count": 75,
   "id": "0c301ea6",
   "metadata": {},
   "outputs": [
    {
     "data": {
      "text/plain": [
       "True"
      ]
     },
     "execution_count": 75,
     "metadata": {},
     "output_type": "execute_result"
    }
   ],
   "source": [
    "a or b"
   ]
  },
  {
   "cell_type": "code",
   "execution_count": 76,
   "id": "c68786d0",
   "metadata": {},
   "outputs": [
    {
     "data": {
      "text/plain": [
       "True"
      ]
     },
     "execution_count": 76,
     "metadata": {},
     "output_type": "execute_result"
    }
   ],
   "source": [
    "a | b"
   ]
  },
  {
   "cell_type": "code",
   "execution_count": 78,
   "id": "16fe95a8",
   "metadata": {},
   "outputs": [
    {
     "data": {
      "text/plain": [
       "(True, False)"
      ]
     },
     "execution_count": 78,
     "metadata": {},
     "output_type": "execute_result"
    }
   ],
   "source": [
    "a, not a"
   ]
  },
  {
   "cell_type": "code",
   "execution_count": 79,
   "id": "aa500d9c",
   "metadata": {},
   "outputs": [
    {
     "data": {
      "text/plain": [
       "(False, True)"
      ]
     },
     "execution_count": 79,
     "metadata": {},
     "output_type": "execute_result"
    }
   ],
   "source": [
    "b, not b"
   ]
  },
  {
   "cell_type": "code",
   "execution_count": 80,
   "id": "f2e8a674",
   "metadata": {},
   "outputs": [
    {
     "data": {
      "text/plain": [
       "(True, True)"
      ]
     },
     "execution_count": 80,
     "metadata": {},
     "output_type": "execute_result"
    }
   ],
   "source": [
    "a, not(not(a))"
   ]
  },
  {
   "cell_type": "markdown",
   "id": "74a4fee3",
   "metadata": {},
   "source": [
    "[Summary](#Summary)"
   ]
  },
  {
   "cell_type": "markdown",
   "id": "7dd2a43d",
   "metadata": {},
   "source": [
    "# 6. Relational Operators <a id='RelationalOperators'></a>"
   ]
  },
  {
   "cell_type": "code",
   "execution_count": 81,
   "id": "672960f0",
   "metadata": {},
   "outputs": [
    {
     "data": {
      "text/plain": [
       "True"
      ]
     },
     "execution_count": 81,
     "metadata": {},
     "output_type": "execute_result"
    }
   ],
   "source": [
    "5 > 3"
   ]
  },
  {
   "cell_type": "code",
   "execution_count": 82,
   "id": "2f59d51f",
   "metadata": {},
   "outputs": [
    {
     "data": {
      "text/plain": [
       "True"
      ]
     },
     "execution_count": 82,
     "metadata": {},
     "output_type": "execute_result"
    }
   ],
   "source": [
    "5 >= 3"
   ]
  },
  {
   "cell_type": "code",
   "execution_count": 83,
   "id": "ef987af9",
   "metadata": {},
   "outputs": [
    {
     "data": {
      "text/plain": [
       "False"
      ]
     },
     "execution_count": 83,
     "metadata": {},
     "output_type": "execute_result"
    }
   ],
   "source": [
    "5 < 3"
   ]
  },
  {
   "cell_type": "code",
   "execution_count": 84,
   "id": "d5897b57",
   "metadata": {},
   "outputs": [
    {
     "data": {
      "text/plain": [
       "False"
      ]
     },
     "execution_count": 84,
     "metadata": {},
     "output_type": "execute_result"
    }
   ],
   "source": [
    "5 <= 3"
   ]
  },
  {
   "cell_type": "code",
   "execution_count": 101,
   "id": "211eba5a",
   "metadata": {},
   "outputs": [
    {
     "data": {
      "text/plain": [
       "True"
      ]
     },
     "execution_count": 101,
     "metadata": {},
     "output_type": "execute_result"
    }
   ],
   "source": [
    "5 != 3"
   ]
  },
  {
   "cell_type": "markdown",
   "id": "60d5d61c",
   "metadata": {},
   "source": [
    "[Summary](#Summary)"
   ]
  },
  {
   "cell_type": "markdown",
   "id": "5097e653",
   "metadata": {},
   "source": [
    "# 7. Control Structures: Loops <a id='Loops'></a>"
   ]
  },
  {
   "cell_type": "markdown",
   "id": "0dfee830",
   "metadata": {},
   "source": [
    "## 7.1 For Loop"
   ]
  },
  {
   "cell_type": "code",
   "execution_count": 86,
   "id": "afe149a5",
   "metadata": {},
   "outputs": [
    {
     "name": "stdout",
     "output_type": "stream",
     "text": [
      "1\n",
      "2\n",
      "3\n",
      "4\n",
      "5\n"
     ]
    }
   ],
   "source": [
    "print(1)\n",
    "print(2)\n",
    "print(3)\n",
    "print(4)\n",
    "print(5)"
   ]
  },
  {
   "cell_type": "code",
   "execution_count": 87,
   "id": "a8cc5af8",
   "metadata": {},
   "outputs": [
    {
     "name": "stdout",
     "output_type": "stream",
     "text": [
      "1\n",
      "2\n",
      "3\n",
      "4\n",
      "5\n"
     ]
    }
   ],
   "source": [
    "for numero in range(1, 6):\n",
    "    print(numero)"
   ]
  },
  {
   "cell_type": "code",
   "execution_count": 88,
   "id": "be7258a2",
   "metadata": {},
   "outputs": [
    {
     "name": "stdout",
     "output_type": "stream",
     "text": [
      "5\n",
      "4\n",
      "3\n",
      "2\n",
      "1\n"
     ]
    }
   ],
   "source": [
    "for numero in range(5, 0, -1):\n",
    "    print(numero)"
   ]
  },
  {
   "cell_type": "code",
   "execution_count": 89,
   "id": "a37baa81",
   "metadata": {},
   "outputs": [
    {
     "data": {
      "text/plain": [
       "15"
      ]
     },
     "execution_count": 89,
     "metadata": {},
     "output_type": "execute_result"
    }
   ],
   "source": [
    "5 + 4 + 3 + 2 + 1"
   ]
  },
  {
   "cell_type": "code",
   "execution_count": 91,
   "id": "f5b18cbc",
   "metadata": {},
   "outputs": [
    {
     "name": "stdout",
     "output_type": "stream",
     "text": [
      "15\n"
     ]
    }
   ],
   "source": [
    "soma = 0\n",
    "for numero in range(1, 6):\n",
    "    soma = soma + numero\n",
    "\n",
    "print(soma)"
   ]
  },
  {
   "cell_type": "code",
   "execution_count": 94,
   "id": "95e58a3c",
   "metadata": {},
   "outputs": [
    {
     "name": "stdout",
     "output_type": "stream",
     "text": [
      "s\n",
      "o\n",
      "r\n",
      "v\n",
      "Achou a letra v\n",
      "e\n",
      "t\n",
      "e\n"
     ]
    }
   ],
   "source": [
    "palavra = 'sorvete'\n",
    "for letra in palavra:\n",
    "    print(letra)\n",
    "    if letra == 'v':\n",
    "        print('Achou a letra v')"
   ]
  },
  {
   "cell_type": "code",
   "execution_count": 95,
   "id": "9ada9d0d",
   "metadata": {},
   "outputs": [
    {
     "name": "stdout",
     "output_type": "stream",
     "text": [
      "0\n",
      "---\n",
      "0\n",
      "1\n",
      "2\n",
      "\n",
      "1\n",
      "---\n",
      "0\n",
      "1\n",
      "2\n",
      "\n",
      "2\n",
      "---\n",
      "0\n",
      "1\n",
      "2\n",
      "\n",
      "3\n",
      "---\n",
      "0\n",
      "1\n",
      "2\n",
      "\n",
      "4\n",
      "---\n",
      "0\n",
      "1\n",
      "2\n",
      "\n"
     ]
    }
   ],
   "source": [
    "for i in range(0,5):\n",
    "    print(i)\n",
    "    print('---')\n",
    "    for j in range(0,3):\n",
    "        print(j)\n",
    "    print()"
   ]
  },
  {
   "cell_type": "markdown",
   "id": "1c2cefbc",
   "metadata": {},
   "source": [
    "## 7.2 While Loop"
   ]
  },
  {
   "cell_type": "code",
   "execution_count": 96,
   "id": "ba331698",
   "metadata": {},
   "outputs": [
    {
     "name": "stdout",
     "output_type": "stream",
     "text": [
      "1\n",
      "2\n",
      "3\n",
      "4\n",
      "5\n",
      "---\n"
     ]
    }
   ],
   "source": [
    "numero = 1\n",
    "while numero < 6:\n",
    "    print(numero)\n",
    "    numero += 1\n",
    "print('---')"
   ]
  },
  {
   "cell_type": "code",
   "execution_count": 97,
   "id": "f506f70c",
   "metadata": {},
   "outputs": [
    {
     "name": "stdout",
     "output_type": "stream",
     "text": [
      "5\n",
      "4\n",
      "3\n",
      "2\n",
      "1\n"
     ]
    }
   ],
   "source": [
    "numero = 5\n",
    "while numero > 0:\n",
    "    print(numero)\n",
    "    numero -= 1"
   ]
  },
  {
   "cell_type": "code",
   "execution_count": 98,
   "id": "03697b6e",
   "metadata": {},
   "outputs": [
    {
     "name": "stdout",
     "output_type": "stream",
     "text": [
      "15\n"
     ]
    }
   ],
   "source": [
    "soma = 0\n",
    "numero = 1\n",
    "while numero < 6:\n",
    "    soma += numero\n",
    "    numero += 1\n",
    "print(soma)"
   ]
  },
  {
   "cell_type": "code",
   "execution_count": 100,
   "id": "99f70469",
   "metadata": {},
   "outputs": [
    {
     "name": "stdout",
     "output_type": "stream",
     "text": [
      "Digite um número de 1 a 10: 7\n",
      "O número digitado é: 7\n"
     ]
    }
   ],
   "source": [
    "numero = 12\n",
    "while numero < 1 or numero > 10:\n",
    "    numero = int(input('Digite um número de 1 a 10: '))\n",
    "    print(f'O número digitado é: {numero}')"
   ]
  },
  {
   "cell_type": "markdown",
   "id": "69125434",
   "metadata": {},
   "source": [
    "[Summary](#Summary)"
   ]
  },
  {
   "cell_type": "markdown",
   "id": "089ef98c",
   "metadata": {},
   "source": [
    "# 8. Data Structures <a id='DataStructures'></a>"
   ]
  },
  {
   "cell_type": "markdown",
   "id": "46689084",
   "metadata": {},
   "source": [
    "## 8.1 Tupla"
   ]
  },
  {
   "cell_type": "code",
   "execution_count": 103,
   "id": "d96f7a30",
   "metadata": {},
   "outputs": [
    {
     "data": {
      "text/plain": [
       "('Homo sapiens', 'Canis familiaris', 'Felis catus')"
      ]
     },
     "execution_count": 103,
     "metadata": {},
     "output_type": "execute_result"
    }
   ],
   "source": [
    "tupla = ('Homo sapiens', 'Canis familiaris', 'Felis catus')\n",
    "tupla"
   ]
  },
  {
   "cell_type": "code",
   "execution_count": 104,
   "id": "d9c9f029",
   "metadata": {},
   "outputs": [
    {
     "data": {
      "text/plain": [
       "tuple"
      ]
     },
     "execution_count": 104,
     "metadata": {},
     "output_type": "execute_result"
    }
   ],
   "source": [
    "type(tupla)"
   ]
  },
  {
   "cell_type": "code",
   "execution_count": 105,
   "id": "21282300",
   "metadata": {},
   "outputs": [
    {
     "data": {
      "text/plain": [
       "'Homo sapiens'"
      ]
     },
     "execution_count": 105,
     "metadata": {},
     "output_type": "execute_result"
    }
   ],
   "source": [
    "tupla[0]"
   ]
  },
  {
   "cell_type": "code",
   "execution_count": 106,
   "id": "724ff6eb",
   "metadata": {},
   "outputs": [
    {
     "name": "stdout",
     "output_type": "stream",
     "text": [
      "Homo sapiens\n",
      "Canis familiaris\n",
      "Felis catus\n"
     ]
    },
    {
     "data": {
      "text/plain": [
       "[None, None, None]"
      ]
     },
     "execution_count": 106,
     "metadata": {},
     "output_type": "execute_result"
    }
   ],
   "source": [
    "[print(x) for x in tupla]"
   ]
  },
  {
   "cell_type": "code",
   "execution_count": 107,
   "id": "ef6749e4",
   "metadata": {},
   "outputs": [
    {
     "name": "stdout",
     "output_type": "stream",
     "text": [
      "Homo sapiens\n",
      "Canis familiaris\n",
      "Felis catus\n"
     ]
    }
   ],
   "source": [
    "for elemento in tupla:\n",
    "    print(elemento)"
   ]
  },
  {
   "cell_type": "markdown",
   "id": "231e2dd7",
   "metadata": {},
   "source": [
    "## 8.2 Lista"
   ]
  },
  {
   "cell_type": "code",
   "execution_count": 110,
   "id": "066ce483",
   "metadata": {},
   "outputs": [],
   "source": [
    "lista1 = ['Homo sapiens', 'Canis familiaris', 'Felis catus']\n",
    "lista2 = ['Xenopus laevis', 'Ailuropoda melanoleuca']"
   ]
  },
  {
   "cell_type": "code",
   "execution_count": 111,
   "id": "c3cefd7d",
   "metadata": {},
   "outputs": [
    {
     "name": "stdout",
     "output_type": "stream",
     "text": [
      "['Homo sapiens', 'Canis familiaris', 'Felis catus']\n"
     ]
    }
   ],
   "source": [
    "print(lista1)"
   ]
  },
  {
   "cell_type": "code",
   "execution_count": 112,
   "id": "956f0771",
   "metadata": {},
   "outputs": [
    {
     "data": {
      "text/plain": [
       "list"
      ]
     },
     "execution_count": 112,
     "metadata": {},
     "output_type": "execute_result"
    }
   ],
   "source": [
    "type(lista1)"
   ]
  },
  {
   "cell_type": "code",
   "execution_count": 113,
   "id": "84761a16",
   "metadata": {},
   "outputs": [
    {
     "data": {
      "text/plain": [
       "['Homo sapiens',\n",
       " 'Canis familiaris',\n",
       " 'Felis catus',\n",
       " 'Xenopus laevis',\n",
       " 'Ailuropoda melanoleuca']"
      ]
     },
     "execution_count": 113,
     "metadata": {},
     "output_type": "execute_result"
    }
   ],
   "source": [
    "lista3 = lista1 + lista2\n",
    "lista3"
   ]
  },
  {
   "cell_type": "code",
   "execution_count": 114,
   "id": "6b5362d6",
   "metadata": {},
   "outputs": [
    {
     "data": {
      "text/plain": [
       "['Homo sapiens', 'Canis familiaris']"
      ]
     },
     "execution_count": 114,
     "metadata": {},
     "output_type": "execute_result"
    }
   ],
   "source": [
    "lista3[0:2]"
   ]
  },
  {
   "cell_type": "code",
   "execution_count": 116,
   "id": "0bf67b8c",
   "metadata": {},
   "outputs": [
    {
     "data": {
      "text/plain": [
       "['Felis catus', 'Xenopus laevis', 'Ailuropoda melanoleuca']"
      ]
     },
     "execution_count": 116,
     "metadata": {},
     "output_type": "execute_result"
    }
   ],
   "source": [
    "lista3[2:]"
   ]
  },
  {
   "cell_type": "code",
   "execution_count": 117,
   "id": "9b11f21e",
   "metadata": {},
   "outputs": [
    {
     "name": "stdout",
     "output_type": "stream",
     "text": [
      "['Homo sapiens', 'Canis familiaris', 'Felis catus', 'Xenopus laevis', 'Ailuropoda melanoleuca', 'Gorila gorila']\n"
     ]
    }
   ],
   "source": [
    "lista3.append('Gorila gorila')\n",
    "print(lista3)"
   ]
  },
  {
   "cell_type": "code",
   "execution_count": 118,
   "id": "cc81c6ac",
   "metadata": {},
   "outputs": [
    {
     "name": "stdout",
     "output_type": "stream",
     "text": [
      "Homo sapiens\n",
      "Canis familiaris\n",
      "Felis catus\n",
      "Xenopus laevis\n",
      "Ailuropoda melanoleuca\n",
      "Gorila gorila\n"
     ]
    }
   ],
   "source": [
    "for item in lista3:\n",
    "    print(item)"
   ]
  },
  {
   "cell_type": "markdown",
   "id": "8a6f134b",
   "metadata": {},
   "source": [
    "## 8.3 Dictionary"
   ]
  },
  {
   "cell_type": "code",
   "execution_count": 123,
   "id": "a238b36a",
   "metadata": {},
   "outputs": [
    {
     "data": {
      "text/plain": [
       "{'Aedes aegypt': 32, 'Aedes albopictus': 22, 'Anopheles darlingi': 14}"
      ]
     },
     "execution_count": 123,
     "metadata": {},
     "output_type": "execute_result"
    }
   ],
   "source": [
    "coleta = {'Aedes aegypt': 32, 'Aedes albopictus': 22, 'Anopheles darlingi': 14}\n",
    "coleta"
   ]
  },
  {
   "cell_type": "code",
   "execution_count": 124,
   "id": "fc2c5490",
   "metadata": {},
   "outputs": [
    {
     "data": {
      "text/plain": [
       "dict"
      ]
     },
     "execution_count": 124,
     "metadata": {},
     "output_type": "execute_result"
    }
   ],
   "source": [
    "type(coleta)"
   ]
  },
  {
   "cell_type": "code",
   "execution_count": 125,
   "id": "cda86b6a",
   "metadata": {},
   "outputs": [],
   "source": [
    "del(coleta)['Aedes albopictus']"
   ]
  },
  {
   "cell_type": "code",
   "execution_count": 126,
   "id": "30d5134e",
   "metadata": {},
   "outputs": [
    {
     "data": {
      "text/plain": [
       "{'Aedes aegypt': 32, 'Anopheles darlingi': 14}"
      ]
     },
     "execution_count": 126,
     "metadata": {},
     "output_type": "execute_result"
    }
   ],
   "source": [
    "coleta"
   ]
  },
  {
   "cell_type": "code",
   "execution_count": 127,
   "id": "c68c3322",
   "metadata": {},
   "outputs": [
    {
     "data": {
      "text/plain": [
       "dict_items([('Aedes aegypt', 32), ('Anopheles darlingi', 14)])"
      ]
     },
     "execution_count": 127,
     "metadata": {},
     "output_type": "execute_result"
    }
   ],
   "source": [
    "coleta.items()"
   ]
  },
  {
   "cell_type": "code",
   "execution_count": 128,
   "id": "19e01e97",
   "metadata": {},
   "outputs": [
    {
     "data": {
      "text/plain": [
       "dict_keys(['Aedes aegypt', 'Anopheles darlingi'])"
      ]
     },
     "execution_count": 128,
     "metadata": {},
     "output_type": "execute_result"
    }
   ],
   "source": [
    "coleta.keys()"
   ]
  },
  {
   "cell_type": "code",
   "execution_count": 130,
   "id": "a5bd6021",
   "metadata": {},
   "outputs": [
    {
     "data": {
      "text/plain": [
       "{'Aedes aegypt': 32, 'Anopheles darlingi': 14, 'Aedes albopictus': 22}"
      ]
     },
     "execution_count": 130,
     "metadata": {},
     "output_type": "execute_result"
    }
   ],
   "source": [
    "coleta['Aedes albopictus'] = 22\n",
    "coleta"
   ]
  },
  {
   "cell_type": "code",
   "execution_count": 134,
   "id": "8e9a5f24",
   "metadata": {},
   "outputs": [
    {
     "name": "stdout",
     "output_type": "stream",
     "text": [
      "key: Aedes aegypt, value: 32\n",
      "key: Anopheles darlingi, value: 14\n",
      "key: Aedes albopictus, value: 22\n"
     ]
    }
   ],
   "source": [
    "for key, value in coleta.items():\n",
    "    print(f'key: {key}, value: {value}')"
   ]
  },
  {
   "cell_type": "code",
   "execution_count": 135,
   "id": "64486882",
   "metadata": {},
   "outputs": [
    {
     "name": "stdout",
     "output_type": "stream",
     "text": [
      "Espécie: Aedes aegypt, número de espécimes coletados: 32\n",
      "Espécie: Anopheles darlingi, número de espécimes coletados: 14\n",
      "Espécie: Aedes albopictus, número de espécimes coletados: 22\n"
     ]
    }
   ],
   "source": [
    "for especie, num_especimes in coleta.items():\n",
    "    print(f'Espécie: {especie}, número de espécimes coletados: {num_especimes}')"
   ]
  },
  {
   "cell_type": "markdown",
   "id": "25b609ff",
   "metadata": {},
   "source": [
    "## 8.4 Set"
   ]
  },
  {
   "cell_type": "code",
   "execution_count": 138,
   "id": "41bf2bd3",
   "metadata": {},
   "outputs": [
    {
     "data": {
      "text/plain": [
       "('proteína',\n",
       " 'ácidos nucleicos',\n",
       " 'carboidrato',\n",
       " 'lipídeo',\n",
       " 'ácidos nucleicos',\n",
       " 'carboidrato',\n",
       " 'carboidrato',\n",
       " 'carboidrato')"
      ]
     },
     "execution_count": 138,
     "metadata": {},
     "output_type": "execute_result"
    }
   ],
   "source": [
    "biomoleculas = ('proteína', 'ácidos nucleicos', 'carboidrato', 'lipídeo',\n",
    "                'ácidos nucleicos', 'carboidrato', 'carboidrato', 'carboidrato')\n",
    "biomoleculas"
   ]
  },
  {
   "cell_type": "code",
   "execution_count": 139,
   "id": "8f9fcdfd",
   "metadata": {},
   "outputs": [
    {
     "name": "stdout",
     "output_type": "stream",
     "text": [
      "{'ácidos nucleicos', 'proteína', 'lipídeo', 'carboidrato'}\n"
     ]
    }
   ],
   "source": [
    "print(set(biomeleculas))"
   ]
  },
  {
   "cell_type": "code",
   "execution_count": 140,
   "id": "44b794b3",
   "metadata": {},
   "outputs": [],
   "source": [
    "c1 = {1,2,3,4,5}\n",
    "c2 = {3,4,5,6,7}\n",
    "c3 = c1.intersection(c2)"
   ]
  },
  {
   "cell_type": "code",
   "execution_count": 141,
   "id": "0fcd0186",
   "metadata": {},
   "outputs": [
    {
     "data": {
      "text/plain": [
       "{1, 2}"
      ]
     },
     "execution_count": 141,
     "metadata": {},
     "output_type": "execute_result"
    }
   ],
   "source": [
    "c1.difference(c2)"
   ]
  },
  {
   "cell_type": "code",
   "execution_count": 142,
   "id": "0803099e",
   "metadata": {},
   "outputs": [
    {
     "data": {
      "text/plain": [
       "{6, 7}"
      ]
     },
     "execution_count": 142,
     "metadata": {},
     "output_type": "execute_result"
    }
   ],
   "source": [
    "c2.difference(c1)"
   ]
  },
  {
   "cell_type": "markdown",
   "id": "ea794b45",
   "metadata": {},
   "source": [
    "[Summary](#Summary)"
   ]
  },
  {
   "cell_type": "markdown",
   "id": "c701ff6d",
   "metadata": {},
   "source": [
    "# 9. Functions <a id='Functions'></a>"
   ]
  },
  {
   "cell_type": "markdown",
   "id": "11b22e8e",
   "metadata": {},
   "source": [
    "## 9.1 Function Without Parameter Passsing"
   ]
  },
  {
   "cell_type": "code",
   "execution_count": 143,
   "id": "eabc8352",
   "metadata": {},
   "outputs": [],
   "source": [
    "def mensagem():\n",
    "    print('Texto da função')"
   ]
  },
  {
   "cell_type": "code",
   "execution_count": 144,
   "id": "85b7572d",
   "metadata": {},
   "outputs": [
    {
     "name": "stdout",
     "output_type": "stream",
     "text": [
      "Texto da função\n",
      "Texto da função\n",
      "Texto da função\n"
     ]
    }
   ],
   "source": [
    "mensagem()\n",
    "mensagem()\n",
    "mensagem()"
   ]
  },
  {
   "cell_type": "markdown",
   "id": "a3715b8f",
   "metadata": {},
   "source": [
    "## 9.2 Function With Parameter Passsing"
   ]
  },
  {
   "cell_type": "code",
   "execution_count": 145,
   "id": "ec9ba399",
   "metadata": {},
   "outputs": [],
   "source": [
    "def mensagem(texto):\n",
    "    print(texto)"
   ]
  },
  {
   "cell_type": "code",
   "execution_count": 146,
   "id": "17fa6bb4",
   "metadata": {},
   "outputs": [
    {
     "name": "stdout",
     "output_type": "stream",
     "text": [
      "texto 1\n",
      "texto 2\n",
      "texto 3\n"
     ]
    }
   ],
   "source": [
    "mensagem('texto 1')\n",
    "mensagem('texto 2')\n",
    "mensagem('texto 3')"
   ]
  },
  {
   "cell_type": "code",
   "execution_count": 147,
   "id": "6d254833",
   "metadata": {},
   "outputs": [],
   "source": [
    "def soma(a, b):\n",
    "    print(a + b)"
   ]
  },
  {
   "cell_type": "code",
   "execution_count": 148,
   "id": "169ead02",
   "metadata": {},
   "outputs": [
    {
     "name": "stdout",
     "output_type": "stream",
     "text": [
      "5\n"
     ]
    }
   ],
   "source": [
    "soma(2, 3)"
   ]
  },
  {
   "cell_type": "code",
   "execution_count": 149,
   "id": "d506604c",
   "metadata": {},
   "outputs": [
    {
     "name": "stdout",
     "output_type": "stream",
     "text": [
      "6\n",
      "3\n"
     ]
    }
   ],
   "source": [
    "soma(3, 3)\n",
    "soma(1, 2)"
   ]
  },
  {
   "cell_type": "code",
   "execution_count": 150,
   "id": "63c2575a",
   "metadata": {},
   "outputs": [],
   "source": [
    "def soma(a, b):\n",
    "    return a + b"
   ]
  },
  {
   "cell_type": "code",
   "execution_count": 151,
   "id": "2ac670db",
   "metadata": {},
   "outputs": [
    {
     "data": {
      "text/plain": [
       "5"
      ]
     },
     "execution_count": 151,
     "metadata": {},
     "output_type": "execute_result"
    }
   ],
   "source": [
    "soma(3, 2)"
   ]
  },
  {
   "cell_type": "code",
   "execution_count": 152,
   "id": "b1aa3f5f",
   "metadata": {},
   "outputs": [
    {
     "name": "stdout",
     "output_type": "stream",
     "text": [
      "5\n"
     ]
    }
   ],
   "source": [
    "r = soma(3, 2)\n",
    "print(r)"
   ]
  },
  {
   "cell_type": "code",
   "execution_count": 153,
   "id": "b0771ad6",
   "metadata": {},
   "outputs": [],
   "source": [
    "def calcula_energia_potencial_gravitacional(m, h, g = 10):\n",
    "    '''\n",
    "    Calcula a energia potencial gravitacional\n",
    "    Argumentos:\n",
    "    m: massa, entrada como uma variável float\n",
    "    h: altura, entrada como uma variável float\n",
    "\n",
    "    Argumento opcional:\n",
    "    g: aceleração gravitacional, com valor default de 10\n",
    "    '''\n",
    "    e = g * m * h\n",
    "    return e"
   ]
  },
  {
   "cell_type": "code",
   "execution_count": 154,
   "id": "6529adf5",
   "metadata": {},
   "outputs": [
    {
     "data": {
      "text/plain": [
       "3600"
      ]
     },
     "execution_count": 154,
     "metadata": {},
     "output_type": "execute_result"
    }
   ],
   "source": [
    "calcula_energia_potencial_gravitacional(30, 12)"
   ]
  },
  {
   "cell_type": "code",
   "execution_count": 155,
   "id": "09befdf6",
   "metadata": {},
   "outputs": [
    {
     "name": "stdout",
     "output_type": "stream",
     "text": [
      "Help on function calcula_energia_potencial_gravitacional in module __main__:\n",
      "\n",
      "calcula_energia_potencial_gravitacional(m, h, g=10)\n",
      "    Calcula a energia potencial gravitacional\n",
      "    Argumentos:\n",
      "    m: massa, entrada como uma variável float\n",
      "    h: altura, entrada como uma variável float\n",
      "    \n",
      "    Argumento opcional:\n",
      "    g: aceleração gravitacional, com valor default de 10\n",
      "\n"
     ]
    }
   ],
   "source": [
    "help(calcula_energia_potencial_gravitacional)"
   ]
  },
  {
   "cell_type": "markdown",
   "id": "034aa5aa",
   "metadata": {},
   "source": [
    "[Summary](#Summary)"
   ]
  },
  {
   "cell_type": "markdown",
   "id": "3f08af49",
   "metadata": {},
   "source": [
    "# 10. Math Library <a id='MathModule'></a>\n",
    "https://docs.python.org/3/library/math.html"
   ]
  },
  {
   "cell_type": "code",
   "execution_count": 156,
   "id": "7d499794",
   "metadata": {},
   "outputs": [],
   "source": [
    "import math"
   ]
  },
  {
   "cell_type": "code",
   "execution_count": 157,
   "id": "4a6e398c",
   "metadata": {},
   "outputs": [
    {
     "data": {
      "text/plain": [
       "3.0"
      ]
     },
     "execution_count": 157,
     "metadata": {},
     "output_type": "execute_result"
    }
   ],
   "source": [
    "math.sqrt(9)"
   ]
  },
  {
   "cell_type": "code",
   "execution_count": 158,
   "id": "0c5cbd9a",
   "metadata": {},
   "outputs": [
    {
     "data": {
      "text/plain": [
       "0.8509035245341184"
      ]
     },
     "execution_count": 158,
     "metadata": {},
     "output_type": "execute_result"
    }
   ],
   "source": [
    "math.sin(45)"
   ]
  },
  {
   "cell_type": "code",
   "execution_count": 159,
   "id": "1eff6630",
   "metadata": {},
   "outputs": [
    {
     "data": {
      "text/plain": [
       "0.5253219888177297"
      ]
     },
     "execution_count": 159,
     "metadata": {},
     "output_type": "execute_result"
    }
   ],
   "source": [
    "math.cos(45)"
   ]
  },
  {
   "cell_type": "code",
   "execution_count": 160,
   "id": "94d23306",
   "metadata": {},
   "outputs": [
    {
     "name": "stdout",
     "output_type": "stream",
     "text": [
      "1.0\n"
     ]
    }
   ],
   "source": [
    "print(math.sin(45)**2 + math.cos(45)**2)"
   ]
  },
  {
   "cell_type": "code",
   "execution_count": 161,
   "id": "7019f4b5",
   "metadata": {},
   "outputs": [
    {
     "data": {
      "text/plain": [
       "2.9999999999999996"
      ]
     },
     "execution_count": 161,
     "metadata": {},
     "output_type": "execute_result"
    }
   ],
   "source": [
    "math.log(1000, 10)"
   ]
  },
  {
   "cell_type": "code",
   "execution_count": 162,
   "id": "d72537d0",
   "metadata": {},
   "outputs": [
    {
     "data": {
      "text/plain": [
       "5.0"
      ]
     },
     "execution_count": 162,
     "metadata": {},
     "output_type": "execute_result"
    }
   ],
   "source": [
    "math.log(32, 2)"
   ]
  },
  {
   "cell_type": "code",
   "execution_count": 163,
   "id": "20ac6451",
   "metadata": {},
   "outputs": [
    {
     "data": {
      "text/plain": [
       "2.718281828459045"
      ]
     },
     "execution_count": 163,
     "metadata": {},
     "output_type": "execute_result"
    }
   ],
   "source": [
    "math.e"
   ]
  },
  {
   "cell_type": "code",
   "execution_count": 165,
   "id": "1ffe4a55",
   "metadata": {},
   "outputs": [
    {
     "data": {
      "text/plain": [
       "1.0"
      ]
     },
     "execution_count": 165,
     "metadata": {},
     "output_type": "execute_result"
    }
   ],
   "source": [
    "math.log(math.e)"
   ]
  },
  {
   "cell_type": "code",
   "execution_count": 164,
   "id": "b843bcfd",
   "metadata": {},
   "outputs": [
    {
     "data": {
      "text/plain": [
       "3.141592653589793"
      ]
     },
     "execution_count": 164,
     "metadata": {},
     "output_type": "execute_result"
    }
   ],
   "source": [
    "math.pi"
   ]
  },
  {
   "cell_type": "markdown",
   "id": "60508c58",
   "metadata": {},
   "source": [
    "[Summary](#Summary)"
   ]
  },
  {
   "cell_type": "markdown",
   "id": "569c66cd",
   "metadata": {},
   "source": [
    "# 11. Datetime Module <a id='DatetimeModule'></a>\n",
    "https://docs.python.org/3/library/datetime.html"
   ]
  },
  {
   "cell_type": "code",
   "execution_count": 166,
   "id": "8acbba3b",
   "metadata": {},
   "outputs": [],
   "source": [
    "import datetime"
   ]
  },
  {
   "cell_type": "code",
   "execution_count": 167,
   "id": "a4d6eedc",
   "metadata": {},
   "outputs": [
    {
     "data": {
      "text/plain": [
       "['MAXYEAR',\n",
       " 'MINYEAR',\n",
       " '__all__',\n",
       " '__builtins__',\n",
       " '__cached__',\n",
       " '__doc__',\n",
       " '__file__',\n",
       " '__loader__',\n",
       " '__name__',\n",
       " '__package__',\n",
       " '__spec__',\n",
       " 'date',\n",
       " 'datetime',\n",
       " 'datetime_CAPI',\n",
       " 'sys',\n",
       " 'time',\n",
       " 'timedelta',\n",
       " 'timezone',\n",
       " 'tzinfo']"
      ]
     },
     "execution_count": 167,
     "metadata": {},
     "output_type": "execute_result"
    }
   ],
   "source": [
    "dir(datetime)"
   ]
  },
  {
   "cell_type": "code",
   "execution_count": 168,
   "id": "0bfd85d5",
   "metadata": {},
   "outputs": [
    {
     "data": {
      "text/plain": [
       "datetime.date(2023, 11, 14)"
      ]
     },
     "execution_count": 168,
     "metadata": {},
     "output_type": "execute_result"
    }
   ],
   "source": [
    "datetime.date.today()"
   ]
  },
  {
   "cell_type": "code",
   "execution_count": 170,
   "id": "3efa10c8",
   "metadata": {},
   "outputs": [
    {
     "data": {
      "text/plain": [
       "datetime.datetime(2023, 11, 14, 15, 44, 28, 187592)"
      ]
     },
     "execution_count": 170,
     "metadata": {},
     "output_type": "execute_result"
    }
   ],
   "source": [
    "agora = datetime.datetime.now()\n",
    "agora"
   ]
  },
  {
   "cell_type": "code",
   "execution_count": 171,
   "id": "f07cc8db",
   "metadata": {},
   "outputs": [
    {
     "data": {
      "text/plain": [
       "14"
      ]
     },
     "execution_count": 171,
     "metadata": {},
     "output_type": "execute_result"
    }
   ],
   "source": [
    "agora.day"
   ]
  },
  {
   "cell_type": "code",
   "execution_count": 172,
   "id": "1d472760",
   "metadata": {},
   "outputs": [
    {
     "data": {
      "text/plain": [
       "11"
      ]
     },
     "execution_count": 172,
     "metadata": {},
     "output_type": "execute_result"
    }
   ],
   "source": [
    "agora.month"
   ]
  },
  {
   "cell_type": "code",
   "execution_count": 173,
   "id": "612c0260",
   "metadata": {},
   "outputs": [
    {
     "data": {
      "text/plain": [
       "2023"
      ]
     },
     "execution_count": 173,
     "metadata": {},
     "output_type": "execute_result"
    }
   ],
   "source": [
    "agora.year"
   ]
  },
  {
   "cell_type": "code",
   "execution_count": 174,
   "id": "051e7bb8",
   "metadata": {},
   "outputs": [
    {
     "data": {
      "text/plain": [
       "15"
      ]
     },
     "execution_count": 174,
     "metadata": {},
     "output_type": "execute_result"
    }
   ],
   "source": [
    "agora.hour"
   ]
  },
  {
   "cell_type": "code",
   "execution_count": 175,
   "id": "2089b1a5",
   "metadata": {},
   "outputs": [
    {
     "data": {
      "text/plain": [
       "44"
      ]
     },
     "execution_count": 175,
     "metadata": {},
     "output_type": "execute_result"
    }
   ],
   "source": [
    "agora.minute"
   ]
  },
  {
   "cell_type": "code",
   "execution_count": 177,
   "id": "8230452d",
   "metadata": {},
   "outputs": [
    {
     "data": {
      "text/plain": [
       "28"
      ]
     },
     "execution_count": 177,
     "metadata": {},
     "output_type": "execute_result"
    }
   ],
   "source": [
    "agora.second"
   ]
  },
  {
   "cell_type": "markdown",
   "id": "20da9e9d",
   "metadata": {},
   "source": [
    "[Summary](#Summary)"
   ]
  },
  {
   "cell_type": "markdown",
   "id": "26ee290f",
   "metadata": {},
   "source": [
    "## 12. Time Module <a id='TimeModule'></a>\n",
    "https://docs.python.org/3/library/time.html"
   ]
  },
  {
   "cell_type": "code",
   "execution_count": 178,
   "id": "f611b363",
   "metadata": {},
   "outputs": [],
   "source": [
    "import time as tm"
   ]
  },
  {
   "cell_type": "code",
   "execution_count": 179,
   "id": "a7fd9b39",
   "metadata": {},
   "outputs": [
    {
     "data": {
      "text/plain": [
       "1699987873.570546"
      ]
     },
     "execution_count": 179,
     "metadata": {},
     "output_type": "execute_result"
    }
   ],
   "source": [
    "tm.time()"
   ]
  },
  {
   "cell_type": "code",
   "execution_count": 185,
   "id": "927da070",
   "metadata": {},
   "outputs": [
    {
     "name": "stdout",
     "output_type": "stream",
     "text": [
      "Tempo: 0.6099984645843506 segundos\n"
     ]
    }
   ],
   "source": [
    "antes = tm.time()\n",
    "lista = []\n",
    "for i in range(0,1000000):\n",
    "  lista.append(i)\n",
    "depois = tm.time()\n",
    "intervalo = depois - antes\n",
    "print(f'Tempo: {intervalo} segundos')"
   ]
  },
  {
   "cell_type": "code",
   "execution_count": 187,
   "id": "2de05d60",
   "metadata": {},
   "outputs": [
    {
     "name": "stdout",
     "output_type": "stream",
     "text": [
      "Finalizando...\n",
      "...\n",
      "Até a próxima\n"
     ]
    }
   ],
   "source": [
    "print('Finalizando...')\n",
    "tm.sleep(2)\n",
    "print('...')\n",
    "tm.sleep(2)\n",
    "print('Até a próxima')"
   ]
  },
  {
   "cell_type": "markdown",
   "id": "a0fb22d0",
   "metadata": {},
   "source": [
    "[Summary](#Summary)"
   ]
  },
  {
   "cell_type": "markdown",
   "id": "d0b1131e",
   "metadata": {},
   "source": [
    "## 13. Random Module <a id='RandomModule'></a>\n",
    "https://docs.python.org/3/library/random.html"
   ]
  },
  {
   "cell_type": "code",
   "execution_count": 188,
   "id": "56f5240e",
   "metadata": {},
   "outputs": [],
   "source": [
    "import random"
   ]
  },
  {
   "cell_type": "code",
   "execution_count": 189,
   "id": "f5b08d4a",
   "metadata": {},
   "outputs": [
    {
     "data": {
      "text/plain": [
       "0.1906929497974319"
      ]
     },
     "execution_count": 189,
     "metadata": {},
     "output_type": "execute_result"
    }
   ],
   "source": [
    "random.random()"
   ]
  },
  {
   "cell_type": "code",
   "execution_count": 190,
   "id": "7da0b3d5",
   "metadata": {},
   "outputs": [
    {
     "data": {
      "text/plain": [
       "6"
      ]
     },
     "execution_count": 190,
     "metadata": {},
     "output_type": "execute_result"
    }
   ],
   "source": [
    "random.randint(1,10)"
   ]
  },
  {
   "cell_type": "code",
   "execution_count": 191,
   "id": "2b7f1469",
   "metadata": {},
   "outputs": [
    {
     "data": {
      "text/plain": [
       "1"
      ]
     },
     "execution_count": 191,
     "metadata": {},
     "output_type": "execute_result"
    }
   ],
   "source": [
    "random.randint(1,10)"
   ]
  },
  {
   "cell_type": "code",
   "execution_count": 192,
   "id": "c27255d0",
   "metadata": {},
   "outputs": [
    {
     "data": {
      "text/plain": [
       "1"
      ]
     },
     "execution_count": 192,
     "metadata": {},
     "output_type": "execute_result"
    }
   ],
   "source": [
    "random.randint(1,10)"
   ]
  },
  {
   "cell_type": "code",
   "execution_count": 193,
   "id": "0fd4fdab",
   "metadata": {},
   "outputs": [
    {
     "data": {
      "text/plain": [
       "9"
      ]
     },
     "execution_count": 193,
     "metadata": {},
     "output_type": "execute_result"
    }
   ],
   "source": [
    "random.randint(1,10)"
   ]
  },
  {
   "cell_type": "code",
   "execution_count": 194,
   "id": "818ca20f",
   "metadata": {},
   "outputs": [
    {
     "data": {
      "text/plain": [
       "0"
      ]
     },
     "execution_count": 194,
     "metadata": {},
     "output_type": "execute_result"
    }
   ],
   "source": [
    "random.randrange(0, 10, 2)"
   ]
  },
  {
   "cell_type": "code",
   "execution_count": 200,
   "id": "fce18881",
   "metadata": {},
   "outputs": [
    {
     "data": {
      "text/plain": [
       "0"
      ]
     },
     "execution_count": 200,
     "metadata": {},
     "output_type": "execute_result"
    }
   ],
   "source": [
    "# Integer random numbers multiples of 2\n",
    "random.randrange(0, 10, 2)"
   ]
  },
  {
   "cell_type": "code",
   "execution_count": 201,
   "id": "6fb20e9b",
   "metadata": {},
   "outputs": [
    {
     "data": {
      "text/plain": [
       "8"
      ]
     },
     "execution_count": 201,
     "metadata": {},
     "output_type": "execute_result"
    }
   ],
   "source": [
    "random.randrange(0, 10, 2)"
   ]
  },
  {
   "cell_type": "code",
   "execution_count": 207,
   "id": "4abe548c",
   "metadata": {},
   "outputs": [
    {
     "data": {
      "text/plain": [
       "3"
      ]
     },
     "execution_count": 207,
     "metadata": {},
     "output_type": "execute_result"
    }
   ],
   "source": [
    "# Integer random numbers multiples of 3\n",
    "random.randrange(0, 10, 3)"
   ]
  },
  {
   "cell_type": "code",
   "execution_count": 208,
   "id": "561b3ef7",
   "metadata": {},
   "outputs": [
    {
     "data": {
      "text/plain": [
       "9"
      ]
     },
     "execution_count": 208,
     "metadata": {},
     "output_type": "execute_result"
    }
   ],
   "source": [
    "random.randrange(0, 10, 3)"
   ]
  },
  {
   "cell_type": "code",
   "execution_count": 209,
   "id": "9c2b5eac",
   "metadata": {},
   "outputs": [
    {
     "data": {
      "text/plain": [
       "0"
      ]
     },
     "execution_count": 209,
     "metadata": {},
     "output_type": "execute_result"
    }
   ],
   "source": [
    "random.randrange(0, 10, 3)"
   ]
  },
  {
   "cell_type": "code",
   "execution_count": 210,
   "id": "0db363ae",
   "metadata": {},
   "outputs": [
    {
     "data": {
      "text/plain": [
       "['K', 'd', 13, '34-j', 'x']"
      ]
     },
     "execution_count": 210,
     "metadata": {},
     "output_type": "execute_result"
    }
   ],
   "source": [
    "x = ['K', 'd', 13, '34-j', 'x']\n",
    "x"
   ]
  },
  {
   "cell_type": "code",
   "execution_count": 211,
   "id": "b8dd82b6",
   "metadata": {},
   "outputs": [
    {
     "data": {
      "text/plain": [
       "'x'"
      ]
     },
     "execution_count": 211,
     "metadata": {},
     "output_type": "execute_result"
    }
   ],
   "source": [
    "random.choice(x)"
   ]
  },
  {
   "cell_type": "code",
   "execution_count": 212,
   "id": "00c8a615",
   "metadata": {},
   "outputs": [
    {
     "data": {
      "text/plain": [
       "13"
      ]
     },
     "execution_count": 212,
     "metadata": {},
     "output_type": "execute_result"
    }
   ],
   "source": [
    "random.choice(x)"
   ]
  },
  {
   "cell_type": "code",
   "execution_count": 215,
   "id": "fec5a48b",
   "metadata": {},
   "outputs": [
    {
     "data": {
      "text/plain": [
       "'34-j'"
      ]
     },
     "execution_count": 215,
     "metadata": {},
     "output_type": "execute_result"
    }
   ],
   "source": [
    "random.choice(x)"
   ]
  },
  {
   "cell_type": "markdown",
   "id": "70c27988",
   "metadata": {},
   "source": [
    "[Summary](#Summary)"
   ]
  },
  {
   "cell_type": "markdown",
   "id": "eefc6ca2",
   "metadata": {},
   "source": [
    "# 14. Create Python Modules <a id='CreatingPythonModules'></a>"
   ]
  },
  {
   "cell_type": "markdown",
   "id": "fd8c8417",
   "metadata": {},
   "source": [
    "### Modulo utilitarios\n",
    "'''\n",
    "def soma(a,b):\n",
    "    return a + b\n",
    "\n",
    "def diferenca(a,b):\n",
    "    return a-b\n",
    "\n",
    "def produto(a,b):\n",
    "    return a*b\n",
    "\n",
    "def quociente(a,b):\n",
    "    return a / b\n",
    "'''"
   ]
  },
  {
   "cell_type": "code",
   "execution_count": 217,
   "id": "04961ed4",
   "metadata": {},
   "outputs": [],
   "source": [
    "import utilitarios as util"
   ]
  },
  {
   "cell_type": "code",
   "execution_count": 218,
   "id": "d1cf06a5",
   "metadata": {},
   "outputs": [
    {
     "data": {
      "text/plain": [
       "5"
      ]
     },
     "execution_count": 218,
     "metadata": {},
     "output_type": "execute_result"
    }
   ],
   "source": [
    "util.soma(2,3)"
   ]
  },
  {
   "cell_type": "code",
   "execution_count": 219,
   "id": "d1865513",
   "metadata": {},
   "outputs": [
    {
     "data": {
      "text/plain": [
       "4"
      ]
     },
     "execution_count": 219,
     "metadata": {},
     "output_type": "execute_result"
    }
   ],
   "source": [
    "util.diferenca(7,3)"
   ]
  },
  {
   "cell_type": "code",
   "execution_count": 220,
   "id": "6ad7f770",
   "metadata": {},
   "outputs": [
    {
     "data": {
      "text/plain": [
       "32"
      ]
     },
     "execution_count": 220,
     "metadata": {},
     "output_type": "execute_result"
    }
   ],
   "source": [
    "util.produto(4,8)"
   ]
  },
  {
   "cell_type": "code",
   "execution_count": 222,
   "id": "ab1d07b5",
   "metadata": {},
   "outputs": [
    {
     "data": {
      "text/plain": [
       "3.75"
      ]
     },
     "execution_count": 222,
     "metadata": {},
     "output_type": "execute_result"
    }
   ],
   "source": [
    "util.quociente(15,4)"
   ]
  },
  {
   "cell_type": "markdown",
   "id": "097c683e",
   "metadata": {},
   "source": [
    "[Summary](#Summary)"
   ]
  },
  {
   "cell_type": "markdown",
   "id": "d3daec38",
   "metadata": {},
   "source": [
    "# 15. Exception Handling <a id='ExceptionHandling'></a>"
   ]
  },
  {
   "cell_type": "code",
   "execution_count": 223,
   "id": "20b93f13",
   "metadata": {},
   "outputs": [
    {
     "name": "stdout",
     "output_type": "stream",
     "text": [
      "Digite um número inteiro: a\n",
      "Valor inválido\n"
     ]
    }
   ],
   "source": [
    "try:\n",
    "    n = int(input('Digite um número inteiro: '))\n",
    "except:\n",
    "    print('Valor inválido')\n",
    "else:\n",
    "    print(f'Valor digitado é {n}')"
   ]
  },
  {
   "cell_type": "code",
   "execution_count": 224,
   "id": "6666e03c",
   "metadata": {},
   "outputs": [
    {
     "name": "stdout",
     "output_type": "stream",
     "text": [
      "Digite um número inteiro: 8\n",
      "Valor digitado é 8\n"
     ]
    }
   ],
   "source": [
    "try:\n",
    "    n = int(input('Digite um número inteiro: '))\n",
    "except:\n",
    "    print('Valor inválido')\n",
    "else:\n",
    "    print(f'Valor digitado é {n}')"
   ]
  },
  {
   "cell_type": "code",
   "execution_count": 225,
   "id": "7d7cc949",
   "metadata": {},
   "outputs": [
    {
     "name": "stdout",
     "output_type": "stream",
     "text": [
      "Digite um número inteiro: 5\n",
      "Valor digitado é 5\n"
     ]
    }
   ],
   "source": [
    "while True:\n",
    "    try:\n",
    "        n = int(input('Digite um número inteiro: '))\n",
    "    except:\n",
    "        print('Valor inválido')\n",
    "    else:\n",
    "        print(f'Valor digitado é {n}')\n",
    "        break"
   ]
  },
  {
   "cell_type": "code",
   "execution_count": 226,
   "id": "332b3d4b",
   "metadata": {},
   "outputs": [
    {
     "name": "stdout",
     "output_type": "stream",
     "text": [
      "Digite um número inteiro: m\n",
      "Valor inválido\n",
      "Digite um número inteiro: x\n",
      "Valor inválido\n",
      "Digite um número inteiro: 9\n",
      "Valor digitado é 9\n"
     ]
    }
   ],
   "source": [
    "while True:\n",
    "    try:\n",
    "        n = int(input('Digite um número inteiro: '))\n",
    "    except:\n",
    "        print('Valor inválido')\n",
    "    else:\n",
    "        print(f'Valor digitado é {n}')\n",
    "        break"
   ]
  },
  {
   "cell_type": "code",
   "execution_count": 227,
   "id": "75172140",
   "metadata": {},
   "outputs": [
    {
     "name": "stdout",
     "output_type": "stream",
     "text": [
      "Digite um número inteiro5\n",
      "Valor digitado é 5\n"
     ]
    }
   ],
   "source": [
    "while True:\n",
    "    try:\n",
    "        p = int(input('Digite um número inteiro'))\n",
    "    except ValueError:\n",
    "        print('Valor inválido')\n",
    "    except KeyboardInterrupt:\n",
    "        print('Usuário interrompeu a execução')\n",
    "        break  \n",
    "    else:\n",
    "        print(f'Valor digitado é {p}')\n",
    "        break"
   ]
  },
  {
   "cell_type": "code",
   "execution_count": 230,
   "id": "45e1ae43",
   "metadata": {},
   "outputs": [
    {
     "name": "stdout",
     "output_type": "stream",
     "text": [
      "Digite um número inteirom\n",
      "Valor inválido\n",
      "Digite um número inteirok\n",
      "Valor inválido\n",
      "Digite um número inteiro7\n",
      "Valor digitado é 7\n"
     ]
    }
   ],
   "source": [
    "while True:\n",
    "    try:\n",
    "        p = int(input('Digite um número inteiro'))\n",
    "    except ValueError:\n",
    "        print('Valor inválido')\n",
    "    except KeyboardInterrupt:\n",
    "        print('Usuário interrompeu a execução')\n",
    "        break  \n",
    "    else:\n",
    "        print(f'Valor digitado é {p}')\n",
    "        break"
   ]
  },
  {
   "cell_type": "markdown",
   "id": "5de661bc",
   "metadata": {},
   "source": [
    "[Summary](#Summary)"
   ]
  },
  {
   "cell_type": "markdown",
   "id": "c4c9e54f",
   "metadata": {},
   "source": [
    "# 16. File Handling <a id='FileHandling'></a>"
   ]
  },
  {
   "cell_type": "code",
   "execution_count": 234,
   "id": "f60e8a7e",
   "metadata": {},
   "outputs": [
    {
     "name": "stdout",
     "output_type": "stream",
     "text": [
      "Machine Learning\n",
      "\n",
      "Data Science\n",
      "\n",
      "Big Data\n"
     ]
    }
   ],
   "source": [
    "with open('frase1.txt', 'r') as text:\n",
    "    for linha in text:\n",
    "        print(linha)"
   ]
  },
  {
   "cell_type": "code",
   "execution_count": 236,
   "id": "687beff4",
   "metadata": {},
   "outputs": [],
   "source": [
    "with open('frase1.txt') as text:\n",
    "     lines = text.readlines()"
   ]
  },
  {
   "cell_type": "code",
   "execution_count": 237,
   "id": "294f5b44",
   "metadata": {},
   "outputs": [
    {
     "data": {
      "text/plain": [
       "['Machine Learning\\n', 'Data Science\\n', 'Big Data']"
      ]
     },
     "execution_count": 237,
     "metadata": {},
     "output_type": "execute_result"
    }
   ],
   "source": [
    "lines"
   ]
  },
  {
   "cell_type": "markdown",
   "id": "89d039d4",
   "metadata": {},
   "source": [
    "[Summary](#Summary)"
   ]
  },
  {
   "cell_type": "markdown",
   "id": "196caffd",
   "metadata": {},
   "source": [
    "# 17. Regular Expression <a id='RegularExpression'></a>"
   ]
  },
  {
   "cell_type": "markdown",
   "id": "c63445d5",
   "metadata": {},
   "source": [
    "## 17.1 Search Function"
   ]
  },
  {
   "cell_type": "code",
   "execution_count": 238,
   "id": "8fcb3634",
   "metadata": {},
   "outputs": [],
   "source": [
    "import re"
   ]
  },
  {
   "cell_type": "code",
   "execution_count": 239,
   "id": "55608df3",
   "metadata": {},
   "outputs": [],
   "source": [
    "frase = 'Olá, meu número de telefone é (42)00010-0000'"
   ]
  },
  {
   "cell_type": "code",
   "execution_count": 240,
   "id": "b0a47879",
   "metadata": {},
   "outputs": [
    {
     "data": {
      "text/plain": [
       "<re.Match object; span=(30, 44), match='(42)00010-0000'>"
      ]
     },
     "execution_count": 240,
     "metadata": {},
     "output_type": "execute_result"
    }
   ],
   "source": [
    "re.search('\\(\\d{2}\\)\\d{4,5}-\\d{4}', frase)"
   ]
  },
  {
   "cell_type": "code",
   "execution_count": 241,
   "id": "3e059ed8",
   "metadata": {},
   "outputs": [],
   "source": [
    "frase = 'A placa de carro que eu anotei durante o acidente foi FRT-1998'"
   ]
  },
  {
   "cell_type": "code",
   "execution_count": 242,
   "id": "36ef2833",
   "metadata": {},
   "outputs": [
    {
     "data": {
      "text/plain": [
       "<re.Match object; span=(54, 62), match='FRT-1998'>"
      ]
     },
     "execution_count": 242,
     "metadata": {},
     "output_type": "execute_result"
    }
   ],
   "source": [
    "re.search('[A-Za-z]{3}-\\d{4}', frase)"
   ]
  },
  {
   "cell_type": "code",
   "execution_count": 243,
   "id": "1ffac23b",
   "metadata": {},
   "outputs": [],
   "source": [
    "email = 'Entre em contato, meu email é teste@teste.com'"
   ]
  },
  {
   "cell_type": "code",
   "execution_count": 244,
   "id": "3a1df602",
   "metadata": {},
   "outputs": [
    {
     "data": {
      "text/plain": [
       "<re.Match object; span=(30, 45), match='teste@teste.com'>"
      ]
     },
     "execution_count": 244,
     "metadata": {},
     "output_type": "execute_result"
    }
   ],
   "source": [
    "re.search('\\w+@\\w+\\.com', email)"
   ]
  },
  {
   "cell_type": "markdown",
   "id": "7d533753",
   "metadata": {},
   "source": [
    "## 17.2 Match Function"
   ]
  },
  {
   "cell_type": "code",
   "execution_count": 258,
   "id": "4feebe02",
   "metadata": {},
   "outputs": [],
   "source": [
    "frase1 = 'A placa de carro que eu anotei durante a batida foi FRT-1998'"
   ]
  },
  {
   "cell_type": "code",
   "execution_count": 265,
   "id": "fb975c9b",
   "metadata": {},
   "outputs": [
    {
     "name": "stdout",
     "output_type": "stream",
     "text": [
      "None\n"
     ]
    }
   ],
   "source": [
    "print(re.match('[A-Za-z]{3}-\\d{4}', frase1))"
   ]
  },
  {
   "cell_type": "code",
   "execution_count": 266,
   "id": "e7857057",
   "metadata": {},
   "outputs": [],
   "source": [
    "frase2 = 'FRT-1998 é a placa do carro'"
   ]
  },
  {
   "cell_type": "code",
   "execution_count": 267,
   "id": "a1e19444",
   "metadata": {},
   "outputs": [
    {
     "name": "stdout",
     "output_type": "stream",
     "text": [
      "<re.Match object; span=(0, 8), match='FRT-1998'>\n"
     ]
    }
   ],
   "source": [
    "print(re.match('[A-Za-z]{3}-\\d{4}', frase2))"
   ]
  },
  {
   "cell_type": "markdown",
   "id": "bdf8d081",
   "metadata": {},
   "source": [
    "## 17.3 `Findall` Function"
   ]
  },
  {
   "cell_type": "code",
   "execution_count": 270,
   "id": "81fad1b1",
   "metadata": {},
   "outputs": [],
   "source": [
    "frase3 = 'Meu número de telefone atual é (42)00000-0000. O número (56)1111-1111 é o antigo'"
   ]
  },
  {
   "cell_type": "code",
   "execution_count": 271,
   "id": "a3de9095",
   "metadata": {},
   "outputs": [
    {
     "data": {
      "text/plain": [
       "['(42)00000-0000', '(56)1111-1111']"
      ]
     },
     "execution_count": 271,
     "metadata": {},
     "output_type": "execute_result"
    }
   ],
   "source": [
    "re.findall('\\(\\d{2}\\)\\d{4,5}-\\d{4}', frase3)"
   ]
  },
  {
   "cell_type": "code",
   "execution_count": 272,
   "id": "b312ced2",
   "metadata": {},
   "outputs": [],
   "source": [
    "emails = '''Nome: Teste 1\n",
    "email: teste1@teste.com\n",
    "Nome: Teste 2\n",
    "email: teste2@teste.com\n",
    "Nome: Teste 3\n",
    "email: teste3@teste.com.br\n",
    "'''"
   ]
  },
  {
   "cell_type": "code",
   "execution_count": 273,
   "id": "5a9a25e8",
   "metadata": {},
   "outputs": [
    {
     "data": {
      "text/plain": [
       "['teste1@teste.com', 'teste2@teste.com', 'teste3@teste.com']"
      ]
     },
     "execution_count": 273,
     "metadata": {},
     "output_type": "execute_result"
    }
   ],
   "source": [
    "re.findall('\\w+@\\w+\\.\\w*', emails)"
   ]
  },
  {
   "cell_type": "code",
   "execution_count": 274,
   "id": "eadae47a",
   "metadata": {},
   "outputs": [
    {
     "data": {
      "text/plain": [
       "['teste1@teste.com', 'teste2@teste.com', 'teste3@teste.com.br']"
      ]
     },
     "execution_count": 274,
     "metadata": {},
     "output_type": "execute_result"
    }
   ],
   "source": [
    "re.findall('[\\w.+-]+@[\\w-]+\\.[\\w.-]+', emails)"
   ]
  },
  {
   "cell_type": "code",
   "execution_count": 275,
   "id": "4563c4b8",
   "metadata": {},
   "outputs": [
    {
     "data": {
      "text/plain": [
       "['teste1@teste.com', 'teste2@teste.com', 'teste3@teste.com.br']"
      ]
     },
     "execution_count": 275,
     "metadata": {},
     "output_type": "execute_result"
    }
   ],
   "source": [
    "re.findall('\\w+@\\w+\\.\\w+.?\\w+', emails)"
   ]
  },
  {
   "cell_type": "markdown",
   "id": "aa71da20",
   "metadata": {},
   "source": [
    "[Summary](#Summary)"
   ]
  },
  {
   "cell_type": "markdown",
   "id": "24cad03f",
   "metadata": {},
   "source": [
    "# 18. Object-Oriented Programming <a id='ObjectOrientedProg'></a>"
   ]
  },
  {
   "cell_type": "code",
   "execution_count": 276,
   "id": "d1e5d878",
   "metadata": {},
   "outputs": [],
   "source": [
    "class Triangulo:\n",
    "    def __init__(self, lado1, lado2, lado3, base, altura):\n",
    "        self.lado1 = lado1\n",
    "        self.lado2 = lado2\n",
    "        self.lado3 = lado3\n",
    "        self.base = base\n",
    "        self.altura = altura\n",
    "  \n",
    "    def area(self):\n",
    "        return (self.base * self.altura) / 2\n",
    "\n",
    "    def tipo(self):\n",
    "        if self.lado1 > self.lado2 + self.lado3:\n",
    "            return 'não é um triângulo'\n",
    "        elif self.lado1 == self.lado2 or self.lado1 == self.lado3 or self.lado1 == self.lado2:\n",
    "            return 'triângulo isósceles'\n",
    "        else:\n",
    "            return 'outro tipo de triângulo'"
   ]
  },
  {
   "cell_type": "code",
   "execution_count": 278,
   "id": "833e4ca7",
   "metadata": {},
   "outputs": [
    {
     "data": {
      "text/plain": [
       "<__main__.Triangulo at 0x118064c6020>"
      ]
     },
     "execution_count": 278,
     "metadata": {},
     "output_type": "execute_result"
    }
   ],
   "source": [
    "t1 = Triangulo(5, 1, 3, 4, 3)\n",
    "t1"
   ]
  },
  {
   "cell_type": "code",
   "execution_count": 279,
   "id": "d71a17f3",
   "metadata": {},
   "outputs": [
    {
     "data": {
      "text/plain": [
       "6.0"
      ]
     },
     "execution_count": 279,
     "metadata": {},
     "output_type": "execute_result"
    }
   ],
   "source": [
    "t1.area()"
   ]
  },
  {
   "cell_type": "code",
   "execution_count": 280,
   "id": "e716aa34",
   "metadata": {},
   "outputs": [
    {
     "data": {
      "text/plain": [
       "'não é um triângulo'"
      ]
     },
     "execution_count": 280,
     "metadata": {},
     "output_type": "execute_result"
    }
   ],
   "source": [
    "t1.tipo()"
   ]
  },
  {
   "cell_type": "code",
   "execution_count": 281,
   "id": "52ef27b5",
   "metadata": {},
   "outputs": [
    {
     "name": "stdout",
     "output_type": "stream",
     "text": [
      "8 8 8 16 9\n"
     ]
    }
   ],
   "source": [
    "t2 = Triangulo(8, 8, 8, 16, 9)\n",
    "print(t2.lado1, t2.lado2, t2.lado3, t2.base, t2.altura)"
   ]
  },
  {
   "cell_type": "code",
   "execution_count": 282,
   "id": "acd7a63a",
   "metadata": {},
   "outputs": [
    {
     "data": {
      "text/plain": [
       "72.0"
      ]
     },
     "execution_count": 282,
     "metadata": {},
     "output_type": "execute_result"
    }
   ],
   "source": [
    "t2.area()"
   ]
  },
  {
   "cell_type": "code",
   "execution_count": 283,
   "id": "67f124c1",
   "metadata": {},
   "outputs": [
    {
     "data": {
      "text/plain": [
       "'triângulo isósceles'"
      ]
     },
     "execution_count": 283,
     "metadata": {},
     "output_type": "execute_result"
    }
   ],
   "source": [
    "t2.tipo()"
   ]
  },
  {
   "cell_type": "markdown",
   "id": "b42f4ad7",
   "metadata": {},
   "source": [
    "[Summary](#Summary)"
   ]
  }
 ],
 "metadata": {
  "kernelspec": {
   "display_name": "Python 3 (ipykernel)",
   "language": "python",
   "name": "python3"
  },
  "language_info": {
   "codemirror_mode": {
    "name": "ipython",
    "version": 3
   },
   "file_extension": ".py",
   "mimetype": "text/x-python",
   "name": "python",
   "nbconvert_exporter": "python",
   "pygments_lexer": "ipython3",
   "version": "3.10.9"
  }
 },
 "nbformat": 4,
 "nbformat_minor": 5
}
